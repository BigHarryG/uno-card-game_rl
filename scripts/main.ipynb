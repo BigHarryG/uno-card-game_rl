{
 "cells": [
  {
   "cell_type": "markdown",
   "metadata": {},
   "source": [
    "# SIMULATION"
   ]
  },
  {
   "cell_type": "markdown",
   "metadata": {
    "toc": true
   },
   "source": [
    "<h1>Table of Contents<span class=\"tocSkip\"></span></h1>\n",
    "<div class=\"toc\"><ul class=\"toc-item\"><li><span><a href=\"#Libraries\" data-toc-modified-id=\"Libraries-1\"><span class=\"toc-item-num\">1&nbsp;&nbsp;</span>Libraries</a></span></li><li><span><a href=\"#Parameters\" data-toc-modified-id=\"Parameters-2\"><span class=\"toc-item-num\">2&nbsp;&nbsp;</span>Parameters</a></span></li><li><span><a href=\"#Run\" data-toc-modified-id=\"Run-3\"><span class=\"toc-item-num\">3&nbsp;&nbsp;</span>Run</a></span></li><li><span><a href=\"#Win-Rate\" data-toc-modified-id=\"Win-Rate-4\"><span class=\"toc-item-num\">4&nbsp;&nbsp;</span>Win Rate</a></span></li><li><span><a href=\"#Q-Values\" data-toc-modified-id=\"Q-Values-5\"><span class=\"toc-item-num\">5&nbsp;&nbsp;</span>Q Values</a></span></li><li><span><a href=\"#Visits\" data-toc-modified-id=\"Visits-6\"><span class=\"toc-item-num\">6&nbsp;&nbsp;</span>Visits</a></span></li><li><span><a href=\"#Extraction\" data-toc-modified-id=\"Extraction-7\"><span class=\"toc-item-num\">7&nbsp;&nbsp;</span>Extraction</a></span></li></ul></div>"
   ]
  },
  {
   "cell_type": "markdown",
   "metadata": {},
   "source": [
    "### Libraries\n",
    "***"
   ]
  },
  {
   "cell_type": "code",
   "execution_count": 2,
   "metadata": {},
   "outputs": [],
   "source": [
    "# Custom libraries\n",
    "import environment as uno\n",
    "\n",
    "# Public libraries\n",
    "import pandas as pd\n",
    "import numpy as np\n",
    "import ipywidgets as widgets\n",
    "import matplotlib.pyplot as plt\n",
    "import seaborn as sns"
   ]
  },
  {
   "cell_type": "code",
   "execution_count": 3,
   "metadata": {},
   "outputs": [],
   "source": [
    "def bold(string):\n",
    "    chr_start = \"\\033[1m\"\n",
    "    chr_end = \"\\033[0m\"\n",
    "    print (chr_start + string + chr_end)\n",
    "    \n",
    "def underline(string):\n",
    "    chr_start = \"\\033[4m\"\n",
    "    chr_end = \"\\033[0m\"\n",
    "    print(chr_start + string + chr_end)"
   ]
  },
  {
   "cell_type": "markdown",
   "metadata": {},
   "source": [
    "### Parameters\n",
    "***"
   ]
  },
  {
   "cell_type": "code",
   "execution_count": 4,
   "metadata": {},
   "outputs": [
    {
     "name": "stdout",
     "output_type": "stream",
     "text": [
      "\u001b[4mGeneral Settings:\u001b[0m\n"
     ]
    },
    {
     "data": {
      "application/vnd.jupyter.widget-view+json": {
       "model_id": "f5180a232170417082fd8e5f9cbc1678",
       "version_major": 2,
       "version_minor": 0
      },
      "text/plain": [
       "IntText(value=100, description='Simulations:')"
      ]
     },
     "metadata": {},
     "output_type": "display_data"
    },
    {
     "data": {
      "application/vnd.jupyter.widget-view+json": {
       "model_id": "b92fcfe34d69459396270ae5a672493b",
       "version_major": 2,
       "version_minor": 0
      },
      "text/plain": [
       "Dropdown(description='Algorithm:', options=('Monte-Carlo', 'Q-Learning'), value='Monte-Carlo')"
      ]
     },
     "metadata": {},
     "output_type": "display_data"
    },
    {
     "data": {
      "application/vnd.jupyter.widget-view+json": {
       "model_id": "ce01c96fbdff48d4b5fd695a3de67e08",
       "version_major": 2,
       "version_minor": 0
      },
      "text/plain": [
       "Dropdown(description='Q-Table:', options=(True, False), value=True)"
      ]
     },
     "metadata": {},
     "output_type": "display_data"
    },
    {
     "data": {
      "application/vnd.jupyter.widget-view+json": {
       "model_id": "9c7c85504f044c12ae163f1c8e565dc3",
       "version_major": 2,
       "version_minor": 0
      },
      "text/plain": [
       "Dropdown(description='Show Game:', index=1, options=(True, False), value=False)"
      ]
     },
     "metadata": {},
     "output_type": "display_data"
    },
    {
     "name": "stdout",
     "output_type": "stream",
     "text": [
      "\u001b[4m\n",
      "Model Parameters:\u001b[0m\n"
     ]
    },
    {
     "data": {
      "application/vnd.jupyter.widget-view+json": {
       "model_id": "ef473ce2bc504cb9be76a75aeba681ff",
       "version_major": 2,
       "version_minor": 0
      },
      "text/plain": [
       "FloatSlider(value=0.2, description='Epsilson:', max=1.0, step=0.01)"
      ]
     },
     "metadata": {},
     "output_type": "display_data"
    },
    {
     "data": {
      "application/vnd.jupyter.widget-view+json": {
       "model_id": "0f363c7db2ea462bae387c28411a3450",
       "version_major": 2,
       "version_minor": 0
      },
      "text/plain": [
       "FloatSlider(value=0.2, description='Step Size:', max=1.0, step=0.01)"
      ]
     },
     "metadata": {},
     "output_type": "display_data"
    },
    {
     "data": {
      "application/vnd.jupyter.widget-view+json": {
       "model_id": "336e31f57cb04478bce898a5fa46d59a",
       "version_major": 2,
       "version_minor": 0
      },
      "text/plain": [
       "FloatSlider(value=0.2, description='Gamma:', max=1.0, step=0.01)"
      ]
     },
     "metadata": {},
     "output_type": "display_data"
    }
   ],
   "source": [
    "# Widgets for settings\n",
    "widg_sim     = widgets.IntText(value = 100, description = \"Simulations:\")\n",
    "widg_algo    = widgets.Dropdown(options=[\"Monte-Carlo\",\"Q-Learning\"], value=\"Monte-Carlo\", description=\"Algorithm:\")\n",
    "widg_q       = widgets.Dropdown(options=[True,False], value=True, description=\"Q-Table:\")\n",
    "widg_comment = widgets.Dropdown(options=[True,False], value=False, description=\"Show Game:\")\n",
    "\n",
    "# Widgets for parameters\n",
    "widg_epsilon = widgets.FloatSlider(value=0.2, min=0, max=1, step=0.01, description=\"Epsilson:\", readout_format=\".2f\")\n",
    "widg_step    = widgets.FloatSlider(value=0.2, min=0, max=1, step=0.01, description=\"Step Size:\", readout_format=\".2f\")\n",
    "widg_gamma   = widgets.FloatSlider(value=0.2, min=0, max=1, step=0.01, description=\"Gamma:\", readout_format=\".2f\")\n",
    "\n",
    "underline (\"General Settings:\")\n",
    "display(widg_sim)\n",
    "display(widg_algo)\n",
    "display(widg_q)\n",
    "display(widg_comment)\n",
    "\n",
    "underline (\"\\nModel Parameters:\")\n",
    "display(widg_epsilon)\n",
    "display(widg_step)\n",
    "display(widg_gamma)"
   ]
  },
  {
   "cell_type": "code",
   "execution_count": null,
   "metadata": {},
   "outputs": [],
   "source": [
    "# Agent parameters\n",
    "agent_info = {\"epsilon\"  : widg_epsilon.value, \n",
    "              \"step_size\": widg_step.value, \n",
    "              \"gamma\"    : widg_gamma.value,\n",
    "              \"q_exist\"  : widg_q.value}\n",
    "\n",
    "agent_info"
   ]
  },
  {
   "cell_type": "markdown",
   "metadata": {},
   "source": [
    "### Run\n",
    "***"
   ]
  },
  {
   "cell_type": "code",
   "execution_count": null,
   "metadata": {},
   "outputs": [],
   "source": [
    "winners, turns, visits = list(), list(), list()"
   ]
  },
  {
   "cell_type": "code",
   "execution_count": null,
   "metadata": {
    "scrolled": false
   },
   "outputs": [],
   "source": [
    "run = uno.tournament(iterations = widg_sim.value,\n",
    "                     algo       = widg_algo.value,\n",
    "                     comment    = widg_comment.value,\n",
    "                     agent_info = agent_info)\n",
    "\n",
    "winners.extend(run[0])\n",
    "turns.extend(run[1])\n",
    "visits.extend(run[2])"
   ]
  },
  {
   "cell_type": "markdown",
   "metadata": {},
   "source": [
    "### Win Rate\n",
    "***"
   ]
  },
  {
   "cell_type": "code",
   "execution_count": null,
   "metadata": {},
   "outputs": [],
   "source": [
    "winners.count(\"Bernhard\")/len(winners)"
   ]
  },
  {
   "cell_type": "code",
   "execution_count": null,
   "metadata": {},
   "outputs": [],
   "source": [
    "fig = plt.figure(1, figsize=(15,7))\n",
    "\n",
    "plt.hist(turns, bins =100, edgecolor = \"w\")\n",
    "plt.title(\"Turns Distribution\")\n",
    "plt.xlabel(\"Turns per Game\")\n",
    "plt.ylabel(\"Games\")\n",
    "\n",
    "plt.show()"
   ]
  },
  {
   "cell_type": "code",
   "execution_count": null,
   "metadata": {},
   "outputs": [],
   "source": [
    "result = pd.concat([pd.Series(winners), pd.Series(turns)], axis = 1)\n",
    "result = result.rename(columns={0:\"Winner\",1:\"Turns\"})\n",
    "\n",
    "result[\"Win_rate\"] = result[\"Winner\"].apply(lambda x: 1 if x == \"Bernhard\" else 0)\n",
    "result[\"Win_rate\"] = result[\"Win_rate\"].cumsum()/(result.index+1)\n",
    "\n",
    "result.tail()"
   ]
  },
  {
   "cell_type": "code",
   "execution_count": null,
   "metadata": {},
   "outputs": [],
   "source": [
    "result[\"Winner\"][-100000:].value_counts()"
   ]
  },
  {
   "cell_type": "code",
   "execution_count": null,
   "metadata": {},
   "outputs": [],
   "source": [
    "fig = plt.figure(1, figsize=(15,7))\n",
    "\n",
    "plt.plot(result.index, result[\"Win_rate\"])\n",
    "plt.hlines(0.5, 0, len(winners), colors=\"grey\", linestyles=\"dashed\")\n",
    "\n",
    "plt.title(\"Learning Curve\")\n",
    "plt.xlabel(\"Simulations\")\n",
    "plt.ylabel(\"Win Rate\")\n",
    "plt.ylim((0,1))\n",
    "\n",
    "plt.show()"
   ]
  },
  {
   "cell_type": "markdown",
   "metadata": {},
   "source": [
    "### Q Values\n",
    "***"
   ]
  },
  {
   "cell_type": "code",
   "execution_count": null,
   "metadata": {},
   "outputs": [],
   "source": [
    "q_table = pd.DataFrame(uno.agent.q)\n",
    "q_table[\"IDX\"] = q_table.index\n",
    "q_table = q_table.set_index(\"IDX\", drop = True)\n",
    "q_table.index.name = None"
   ]
  },
  {
   "cell_type": "code",
   "execution_count": null,
   "metadata": {},
   "outputs": [],
   "source": [
    "q_pivot = q_table.copy()\n",
    "\n",
    "q_pivot[\"HAND\"] = q_pivot.index.map(lambda x: sum(x[1:10]))\n",
    "q_pivot = q_pivot.replace(0, np.NaN)\n",
    "q_pivot = q_pivot.groupby(\"HAND\").mean()"
   ]
  },
  {
   "cell_type": "code",
   "execution_count": null,
   "metadata": {},
   "outputs": [],
   "source": [
    "fig, ax = plt.subplots(1, 1, figsize = (15,10))\n",
    "\n",
    "sns.heatmap(q_pivot, \n",
    "            fmt=\".2f\", \n",
    "            cmap = \"OrRd\", \n",
    "            linewidth = 0.3, \n",
    "            annot = True,\n",
    "            cbar = False,\n",
    "            center = 0.1)\n",
    "\n",
    "ax.title.set_text(\"Q Values\")\n",
    "ax.set(xlabel=\"Action taken\", ylabel=\"Hand Cards\")\n",
    "plt.show()"
   ]
  },
  {
   "cell_type": "markdown",
   "metadata": {},
   "source": [
    "### Visits\n",
    "***"
   ]
  },
  {
   "cell_type": "code",
   "execution_count": null,
   "metadata": {},
   "outputs": [],
   "source": [
    "q_visited = (q_table != 0).values.sum()\n",
    "q_possible = 0\n",
    "\n",
    "for i in range(len(q_table)):\n",
    "    q_possible += sum(q_table.index[i][8:])\n",
    "    \n",
    "print (f'From {q_possible:,} possible combinations {q_visited:,} or {q_visited/q_possible*100:.2f}% have been visited')"
   ]
  },
  {
   "cell_type": "code",
   "execution_count": null,
   "metadata": {},
   "outputs": [],
   "source": [
    "fig = plt.figure(1, figsize=(15,7))\n",
    "plt.plot(q_visited)\n",
    "plt.show()"
   ]
  },
  {
   "cell_type": "code",
   "execution_count": null,
   "metadata": {},
   "outputs": [],
   "source": [
    "q_visit = uno.agent.q_visit.copy()\n",
    "\n",
    "q_visit[\"HAND\"] = q_visit.index.map(lambda x: sum(x[1:10]))\n",
    "q_visit = q_visit.replace(0, np.NaN)\n",
    "q_visit = q_visit.groupby(\"HAND\").sum()"
   ]
  },
  {
   "cell_type": "code",
   "execution_count": null,
   "metadata": {},
   "outputs": [],
   "source": [
    "fig = plt.figure(1, figsize=(15,7))\n",
    "\n",
    "dist_hand = q_visit.sum(axis = 1)\n",
    "\n",
    "plt.bar(dist_hand.index, dist_hand.values)\n",
    "plt.show()"
   ]
  },
  {
   "cell_type": "code",
   "execution_count": null,
   "metadata": {},
   "outputs": [],
   "source": [
    "fig, ax = plt.subplots(1, 1, figsize = (15,10))\n",
    "\n",
    "sns.heatmap(q_visit, \n",
    "            fmt=\",.0f\", \n",
    "            cmap = \"OrRd\", \n",
    "            linewidth = 0.3, \n",
    "            annot = True,\n",
    "            cbar = False,\n",
    "            center = 0.1)\n",
    "\n",
    "ax.title.set_text(\"Visits\")\n",
    "ax.set(xlabel=\"Action taken\", ylabel=\"Hand Cards\")\n",
    "plt.show()"
   ]
  },
  {
   "cell_type": "markdown",
   "metadata": {},
   "source": [
    "### Extraction\n",
    "***"
   ]
  },
  {
   "cell_type": "code",
   "execution_count": null,
   "metadata": {},
   "outputs": [],
   "source": [
    "q_table.to_csv(\"02 Extracts/q_table.csv\" , sep = \";\")\n",
    "uno.agent.q_visit.to_csv(\"02 Extracts/q_visit.csv\" , sep = \";\")"
   ]
  }
 ],
 "metadata": {
  "kernelspec": {
   "display_name": "Python 3",
   "language": "python",
   "name": "python3"
  },
  "language_info": {
   "codemirror_mode": {
    "name": "ipython",
    "version": 3
   },
   "file_extension": ".py",
   "mimetype": "text/x-python",
   "name": "python",
   "nbconvert_exporter": "python",
   "pygments_lexer": "ipython3",
   "version": "3.7.3"
  },
  "toc": {
   "base_numbering": 1,
   "nav_menu": {},
   "number_sections": true,
   "sideBar": false,
   "skip_h1_title": true,
   "title_cell": "Table of Contents",
   "title_sidebar": "Contents",
   "toc_cell": true,
   "toc_position": {},
   "toc_section_display": true,
   "toc_window_display": false
  }
 },
 "nbformat": 4,
 "nbformat_minor": 4
}
